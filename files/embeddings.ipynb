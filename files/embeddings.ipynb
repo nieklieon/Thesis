{
 "cells": [
  {
   "cell_type": "markdown",
   "metadata": {
    "collapsed": false,
    "jupyter": {
     "outputs_hidden": false
    }
   },
   "source": [
    "# Importing packages"
   ]
  },
  {
   "cell_type": "code",
   "execution_count": 2,
   "metadata": {
    "collapsed": false,
    "jupyter": {
     "outputs_hidden": false
    }
   },
   "outputs": [
    {
     "name": "stderr",
     "output_type": "stream",
     "text": [
      "2024-07-04 09:03:52.288665: I tensorflow/core/platform/cpu_feature_guard.cc:210] This TensorFlow binary is optimized to use available CPU instructions in performance-critical operations.\n",
      "To enable the following instructions: AVX2 FMA, in other operations, rebuild TensorFlow with the appropriate compiler flags.\n",
      "[nltk_data] Downloading package wordnet to\n",
      "[nltk_data]     /Users/niekprivate/nltk_data...\n",
      "[nltk_data]   Package wordnet is already up-to-date!\n"
     ]
    },
    {
     "data": {
      "text/plain": "True"
     },
     "execution_count": 2,
     "metadata": {},
     "output_type": "execute_result"
    }
   ],
   "source": [
    "''' GENERAL '''\n",
    "import pandas as pd\n",
    "import numpy as np\n",
    "import re\n",
    "from collections.abc import Iterable\n",
    "from itertools import chain\n",
    "from collections import Counter\n",
    "\n",
    "from tqdm.notebook import tqdm # Notebook friendly progression bar\n",
    "tqdm.pandas()\n",
    "\n",
    "''' EMBEDDINGS '''\n",
    "from sentence_transformers import SentenceTransformer, util\n",
    "from tensorflow.keras.preprocessing.text import Tokenizer #GloVe\n",
    "from sklearn.feature_extraction.text import TfidfVectorizer #GloVe\n",
    "\n",
    "from nltk.stem import WordNetLemmatizer, SnowballStemmer #GloVe\n",
    "# import nltk\n",
    "# nltk.download('wordnet')"
   ]
  },
  {
   "cell_type": "markdown",
   "metadata": {
    "collapsed": false,
    "jupyter": {
     "outputs_hidden": false
    }
   },
   "source": [
    "# Preparation"
   ]
  },
  {
   "cell_type": "markdown",
   "metadata": {
    "collapsed": false,
    "jp-MarkdownHeadingCollapsed": true,
    "jupyter": {
     "outputs_hidden": false
    }
   },
   "source": [
    "## ISCO"
   ]
  },
  {
   "cell_type": "code",
   "execution_count": 4,
   "metadata": {
    "collapsed": false,
    "jupyter": {
     "outputs_hidden": false
    }
   },
   "outputs": [
    {
     "name": "stdout",
     "output_type": "stream",
     "text": [
      "Contains missing tasks: True (# missing values: 3/130, 2.31%)\n",
      "Contains missing definition: False\n"
     ]
    }
   ],
   "source": [
    "# Read file\n",
    "isco = pd.read_excel('isco.xlsx', dtype={'ISCO 08 Code': 'str'})\n",
    "# Rename columns\n",
    "isco.rename(columns={'Level': 'isco_level', 'ISCO 08 Code': 'isco_code', 'Title EN': 'isco_title', 'Tasks include': 'isco_tasks', 'Definition': 'isco_definition'}, inplace=True)\n",
    "# Drop unnecessary columns\n",
    "isco = isco.iloc[:, :5]\n",
    "# Keep only level 3 ISCO codes\n",
    "isco = isco.loc[isco['isco_level'] == 3]\n",
    "\n",
    "# Add '0'/'00' to level 1/2 isco codes ('21' --> '210', '8' --> '800')\n",
    "isco['isco_code'] = np.select(\n",
    "    condlist=[\n",
    "        isco['isco_level'] == 1,\n",
    "        isco['isco_level'] == 2\n",
    "    ],\n",
    "    choicelist=[\n",
    "        isco['isco_code'].apply(lambda x: x + '00'),\n",
    "        isco['isco_code'].apply(lambda x: x + '0'),\n",
    "    ],\n",
    "    default=isco['isco_code']\n",
    ")\n",
    "\n",
    "# Print amount of missing values for tasks and definitions\n",
    "amount_na = len(isco[isco['isco_tasks'].isna()])\n",
    "len_isco = len(isco)\n",
    "print('Contains missing tasks:', isco['isco_tasks'].isna().any(), f'(# missing values: {amount_na}/{len_isco}, {round((amount_na/len_isco)*100, 2)}%)')\n",
    "print('Contains missing definition:', isco['isco_definition'].isna().any())\n",
    "\n",
    "# Fill missing tasks with empty string\n",
    "isco['isco_tasks'] = isco['isco_tasks'].fillna('')\n",
    "# Combine definition and task strings\n",
    "isco['combined_text'] = isco['isco_definition'] + ' ' + isco['isco_tasks']\n",
    "\n",
    "isco.reset_index(drop=True, inplace=True)"
   ]
  },
  {
   "cell_type": "code",
   "execution_count": 3,
   "metadata": {},
   "outputs": [
    {
     "ename": "NameError",
     "evalue": "name 'isco' is not defined",
     "output_type": "error",
     "traceback": [
      "\u001B[0;31m---------------------------------------------------------------------------\u001B[0m",
      "\u001B[0;31mNameError\u001B[0m                                 Traceback (most recent call last)",
      "Cell \u001B[0;32mIn[3], line 2\u001B[0m\n\u001B[1;32m      1\u001B[0m \u001B[38;5;66;03m# Amount of ISCO strings with length > max seq length SBERT model\u001B[39;00m\n\u001B[0;32m----> 2\u001B[0m definition_length \u001B[38;5;241m=\u001B[39m \u001B[43misco\u001B[49m[\u001B[38;5;124m'\u001B[39m\u001B[38;5;124misco_definition\u001B[39m\u001B[38;5;124m'\u001B[39m]\u001B[38;5;241m.\u001B[39mapply(\u001B[38;5;28;01mlambda\u001B[39;00m x: \u001B[38;5;28mlen\u001B[39m(x\u001B[38;5;241m.\u001B[39msplit()))\n\u001B[1;32m      3\u001B[0m tasks_length \u001B[38;5;241m=\u001B[39m isco[\u001B[38;5;124m'\u001B[39m\u001B[38;5;124misco_tasks\u001B[39m\u001B[38;5;124m'\u001B[39m]\u001B[38;5;241m.\u001B[39mapply(\u001B[38;5;28;01mlambda\u001B[39;00m x: \u001B[38;5;28mlen\u001B[39m(x\u001B[38;5;241m.\u001B[39msplit()))\n\u001B[1;32m      5\u001B[0m \u001B[38;5;28mprint\u001B[39m(\u001B[38;5;124m'\u001B[39m\u001B[38;5;124mDefinitions with length > seq length (384):\u001B[39m\u001B[38;5;124m'\u001B[39m, (definition_length \u001B[38;5;241m>\u001B[39m \u001B[38;5;241m384\u001B[39m)\u001B[38;5;241m.\u001B[39many())\n",
      "\u001B[0;31mNameError\u001B[0m: name 'isco' is not defined"
     ]
    }
   ],
   "source": [
    "# Amount of ISCO strings with length > max seq length SBERT model\n",
    "definition_length = isco['isco_definition'].apply(lambda x: len(x.split()))\n",
    "tasks_length = isco['isco_tasks'].apply(lambda x: len(x.split()))\n",
    "\n",
    "print('Definitions with length > seq length (384):', (definition_length > 384).any())\n",
    "print('Tasks with length > seq length (384):', (tasks_length > 384).any())\n"
   ]
  },
  {
   "cell_type": "markdown",
   "metadata": {},
   "source": [
    "## Patents"
   ]
  },
  {
   "cell_type": "code",
   "execution_count": null,
   "metadata": {},
   "outputs": [],
   "source": [
    "# Read file\n",
    "patents = pd.read_csv('data/patents/sustainability_patents.tsv', sep='\\t')\n",
    "# Patent technology\n",
    "patent_tech = pd.read_csv('data/patents/patent_tech.tsv', sep='\\t')"
   ]
  },
  {
   "cell_type": "code",
   "execution_count": null,
   "metadata": {},
   "outputs": [],
   "source": [
    "def clean_claim(x):\n",
    "    # html tags\n",
    "    x = re.sub('<.*?>', '', x)    \n",
    "    # arrows and dashes\n",
    "    x = re.sub('-+>?', '', x)\n",
    "    # everything between '( )'\n",
    "    x = re.sub('\\(.*?\\)', '', x)\n",
    "    # a. at start\n",
    "    x = re.sub('^\\w+\\.', '', x)\n",
    "    # replace multiple whitespaces with one\n",
    "    x = re.sub('\\s{2,}', '', x)\n",
    "    # strip whitespaces at start and end\n",
    "    x = x.strip()\n",
    "\n",
    "    return x"
   ]
  },
  {
   "cell_type": "code",
   "execution_count": null,
   "metadata": {},
   "outputs": [],
   "source": [
    "def split_claim(x, max_seq_length):\n",
    "    # Returns True if any element in list is instance list\n",
    "    def contains_list(lst):\n",
    "        return any(isinstance(element, list) for element in lst)\n",
    "    # Flattens list\n",
    "    def flatten(lst):\n",
    "        for item in lst:\n",
    "            if isinstance(item, Iterable) and not isinstance(item, (str, bytes)):\n",
    "                yield from flatten(item)\n",
    "            else:\n",
    "                yield item\n",
    "\n",
    "    # Regex for seperating claim on HTML tag\n",
    "    sep_re = re.compile('<claim-text>')\n",
    "    claims = re.split(sep_re, x)\n",
    "\n",
    "    # List of claim lengths\n",
    "    claim_lengths = [len(c.split()) for c in claims]\n",
    "    # List with bools for lengt > max seq length\n",
    "    long_claims = [idx for idx in range(len(claim_lengths)) if claim_lengths[idx] > max_seq_length]\n",
    "    # Different Regex for seperating on '<br>' or period or colon\n",
    "    br_re = re.compile('<br\\s?\\/?>')\n",
    "    per_re = re.compile('(?<!\\d)\\.(?!\\d)')\n",
    "    col_re = re.compile('(?<=[A-z]);')\n",
    "\n",
    "    # Iterativaly split claims if claim still too long\n",
    "    if long_claims:\n",
    "        for c_idx in long_claims:\n",
    "            claim = claims[c_idx]\n",
    "            claim_list = [claim]\n",
    "            claim_list_bool = [True]\n",
    "\n",
    "            br_tries = 0\n",
    "            per_tries = 0\n",
    "            col_tries = 0\n",
    "\n",
    "            maxsplit = 1\n",
    "            while br_tries < 6 and True in claim_list_bool:\n",
    "                claim_list = re.split(br_re, claim, maxsplit=maxsplit)\n",
    "                claim_list_bool = [len(clean_claim(c).split()) > max_seq_length for c in claim_list]\n",
    "                max_lenght_br = np.max([len(clean_claim(c).split()) for c in claim_list])\n",
    "                maxsplit += 1\n",
    "                br_tries += 1\n",
    "\n",
    "            maxsplit = 1\n",
    "            while per_tries < 6 and True in claim_list_bool:\n",
    "                claim_list = re.split(per_re, claim, maxsplit=maxsplit)\n",
    "                claim_list_bool = [len(clean_claim(c).split()) > max_seq_length for c in claim_list]\n",
    "                max_lenght_per = np.max([len(clean_claim(c).split()) for c in claim_list])\n",
    "                maxsplit += 1\n",
    "                per_tries += 1\n",
    "\n",
    "            maxsplit = 1\n",
    "            while col_tries < 6 and True in claim_list_bool:\n",
    "                claim_list = re.split(col_re, claim, maxsplit=maxsplit)\n",
    "                claim_list_bool = [len(clean_claim(c).split()) > max_seq_length for c in claim_list]\n",
    "                max_lenght_col = np.max([len(clean_claim(c).split()) for c in claim_list])\n",
    "                maxsplit += 1\n",
    "                col_tries += 1\n",
    "\n",
    "            if True in claim_list_bool:\n",
    "                if max_lenght_br < max_lenght_col and max_lenght_br < max_lenght_per:\n",
    "                    claim_list = re.split(br_re, claim)\n",
    "                elif max_lenght_per < max_lenght_br and max_lenght_per < max_lenght_col:\n",
    "                    claim_list = re.split(br_re, claim)\n",
    "                elif max_lenght_col < max_lenght_per and max_lenght_col < max_lenght_br:\n",
    "                    claim_list = re.split(br_re, claim)\n",
    "                \n",
    "            claims[c_idx] = claim_list\n",
    "\n",
    "    if contains_list(claims):\n",
    "        claims = list(flatten(claims))\n",
    "\n",
    "    return claims # Return list of split claims"
   ]
  },
  {
   "cell_type": "code",
   "execution_count": null,
   "metadata": {},
   "outputs": [],
   "source": [
    "''' Filtering on patent claims '''\n",
    "\n",
    "patent_claims = patents[patents['text_type'] == 'CLAIM'].copy()\n",
    "patent_claims.reset_index(inplace=True, drop=True)"
   ]
  },
  {
   "cell_type": "code",
   "execution_count": null,
   "metadata": {},
   "outputs": [],
   "source": [
    "''' Cleaning and splitting claims '''\n",
    "\n",
    "# Clean claim texts\n",
    "print('Cleaning claims...')\n",
    "patent_claims['clean_text'] = patent_claims['text'].progress_apply(clean_claim)\n",
    "\n",
    "# Splitting claims\n",
    "print('\\nSplitting claims...')\n",
    "patent_claims['split_text_mpnet'] = patent_claims['text'].progress_apply(lambda x: split_claim(x, 384))\n",
    "\n",
    "# Quick function for cleaning seperate claims in list\n",
    "def clean_split_claim(x): return [clean_claim(c) for c in x if not re.search('^\\s*$', clean_claim(c))]\n",
    "\n",
    "# Cleaning split claims\n",
    "print('\\nCleaning split claims...')\n",
    "patent_claims['split_text_mpnet'] = patent_claims['split_text_mpnet'].progress_apply(clean_split_claim)\n",
    "\n",
    "# subset columns\n",
    "patent_claims = patent_claims[['pub_nbr', 'app_year', 'text', 'clean_text', 'split_text_mpnet']]\n",
    "# Remove empty claims\n",
    "patent_claims = patent_claims[patent_claims['split_text_mpnet'].str.len() > 0]"
   ]
  },
  {
   "cell_type": "code",
   "execution_count": null,
   "metadata": {},
   "outputs": [],
   "source": [
    "''' Printing patent info '''\n",
    "\n",
    "nr_patents = len(patents['pub_nbr'].unique())\n",
    "print('N =', nr_patents)\n",
    "\n",
    "grouped = patents.groupby('pub_nbr')['text_type']\n",
    "\n",
    "nr_na_vc = grouped.apply(lambda x: x.isna().any()).value_counts()\n",
    "print(f'\\nAmount of patents with missing data: {nr_na_vc.iloc[1]}/{nr_patents} ({round(nr_na_vc.iloc[1]/nr_patents, 4)*100}%)')\n",
    "\n",
    "text_type_vc = grouped.apply(lambda x: 'CLAIM' in x.values).value_counts()\n",
    "print(f'\\nPatents containing a claim section: {text_type_vc.iloc[0]}/{nr_patents} ({round(text_type_vc.iloc[0]/nr_patents, 2)*100}%)')"
   ]
  },
  {
   "cell_type": "markdown",
   "source": [
    "# Embeddings"
   ],
   "metadata": {
    "collapsed": false
   }
  },
  {
   "cell_type": "markdown",
   "source": [
    "## mpnet"
   ],
   "metadata": {
    "collapsed": false
   },
   "execution_count": 1
  },
  {
   "cell_type": "code",
   "execution_count": null,
   "metadata": {},
   "outputs": [],
   "source": [
    "# Load model\n",
    "model_mpnet = SentenceTransformer('sentence-transformers/all-mpnet-base-v2')\n",
    "print('Max seq length mpnet:', model_mpnet.max_seq_length) #384\n",
    "\n",
    "# ISCO embeddings\n",
    "isco_embeddings_mpnet = isco['combined_text'].progress_apply(model_mpnet.encode)\n",
    "\n",
    "# Sustainability patents\n",
    "patent_claims['embeddings_mpnet'] = patent_claims['split_text_mpnet'].progress_apply(model_mpnet.encode)\n",
    "# Averaging claim embeddings\n",
    "patent_claims['embeddings_mpnet_mean'] = patent_claims['embeddings_mpnet'].apply(lambda x: x.mean(axis=0))"
   ]
  },
  {
   "cell_type": "markdown",
   "source": [
    "## PaECTER"
   ],
   "metadata": {
    "collapsed": false
   }
  },
  {
   "cell_type": "code",
   "execution_count": null,
   "metadata": {},
   "outputs": [],
   "source": [
    "# Load model\n",
    "model_paecter = SentenceTransformer('mpi-inno-comp/paecter')\n",
    "print('Max seq length mpnet:', model_paecter.max_seq_length) #512\n",
    "\n",
    "# ISCO embeddings\n",
    "isco_embeddings_paecter = model_paecter.encode(isco['combined_text'], show_progress_bar=True)\n",
    "\n",
    "# Sustainability patents\n",
    "patent_claims['embeddings_paecter'] = patent_claims['split_text_paecter'].progress_apply(model_mpnet.encode)\n",
    "# Averaging claim embeddings\n",
    "patent_claims['embeddings_paecter_mean'] = patent_claims['embeddings_paecter'].apply(lambda x: x.mean(axis=0))"
   ]
  },
  {
   "cell_type": "markdown",
   "source": [
    "## GloVe"
   ],
   "metadata": {
    "collapsed": false
   }
  },
  {
   "cell_type": "code",
   "execution_count": null,
   "metadata": {},
   "outputs": [],
   "source": [
    "lemmatizer = WordNetLemmatizer()\n",
    "stemmer = SnowballStemmer(\"english\")"
   ]
  },
  {
   "cell_type": "code",
   "execution_count": null,
   "outputs": [],
   "source": [
    "def tokenize_doc(document):\n",
    "    # Lowercase\n",
    "    document = document.lower()\n",
    "    # Create vocabulary\n",
    "    vocab = document.split()\n",
    "\n",
    "    # Lemmatizing and stemming\n",
    "    vocab = [lemmatizer.lemmatize(w) for w in vocab]\n",
    "    vocab = [stemmer.stem(w) for w in vocab]\n",
    "\n",
    "    # Tokenizing\n",
    "    tokenizer = Tokenizer()\n",
    "    tokenizer.fit_on_texts(vocab)\n",
    "\n",
    "    return tokenizer"
   ],
   "metadata": {
    "collapsed": false
   }
  },
  {
   "cell_type": "code",
   "execution_count": null,
   "outputs": [],
   "source": [
    "''' Create GloVe embeddings, with optional TF-IDF weighting '''\n",
    "def create_glove_embeddings(document, dim, glove_embeddings, tfidf_df=None, feature_names= None, i=None):\n",
    "    tokenized_doc = tokenize_doc(document)\n",
    "\n",
    "    word_index = tokenized_doc.word_index\n",
    "\n",
    "    embedding_list = []\n",
    "\n",
    "    for word in word_index:\n",
    "        if word not in glove_embeddings:\n",
    "            continue\n",
    "\n",
    "        if not tfidf_df is None:\n",
    "            if word not in feature_names:\n",
    "                continue\n",
    "\n",
    "            tfidf_value = tfidf_df.loc[i, word]\n",
    "            if tfidf_value == 0:\n",
    "                raise Exception('tfidf value cannot be 0')\n",
    "\n",
    "            embedding_list.append(np.array(\n",
    "                vector, dtype=np.float32) * tfidf_value)\n",
    "        else:\n",
    "            embedding_list.append(np.array(\n",
    "                vector, dtype=np.float32))\n",
    "\n",
    "    embedding_matrix = np.array(embedding_list)\n",
    "    document_embedding = np.mean(embedding_matrix, axis=0)\n",
    "\n",
    "    return document_embedding"
   ],
   "metadata": {
    "collapsed": false
   }
  },
  {
   "cell_type": "code",
   "execution_count": null,
   "outputs": [],
   "source": [
    "''' Creating patent embeddings '''\n",
    "\n",
    "dim = 300\n",
    "\n",
    "# Create corpus\n",
    "corpus = patent_claims['clean_text']\n",
    "# Tokenize\n",
    "corpus_clean = [' '.join(tokenize_doc(doc).index_word.values()) for doc in corpus]\n",
    "corpus_size = len(corpus_clean)\n",
    "\n",
    "corpus_tokens = set(chain(*([doc.split() for doc in corpus_clean])))\n",
    "\n",
    "# Initiate TF-IDF instance\n",
    "tfidf = TfidfVectorizer()\n",
    "tfidf_fit = tfidf.fit_transform(corpus_clean)\n",
    "feature_names = tfidf.get_feature_names_out()\n",
    "# Create df with feature names and corresponding tf-idf values\n",
    "tfidf_df = pd.DataFrame(tfidf_fit.todense(), index=range(corpus_size), columns=feature_names)\n",
    "\n",
    "# Tokens in corpus that are not in tfidf\n",
    "token_diff = corpus_tokens - set(feature_names)\n",
    "\n",
    "glove_embeddings = {}\n",
    "\n",
    "with open('glove/glove.6B.300d.txt', 'r') as glove_file:\n",
    "    # Read word embeddings from file\n",
    "    while True:\n",
    "        line = glove_file.readline()\n",
    "\n",
    "        if not line:\n",
    "            break\n",
    "\n",
    "        word, *vector = line.split()\n",
    "\n",
    "        if word in corpus_tokens:\n",
    "            glove_embeddings[word] = vector\n",
    "\n",
    "# NOT TFIDF WEIGHTED\n",
    "embeddings_glove = np.zeros((corpus_size, dim))\n",
    "\n",
    "for i, doc in enumerate(tqdm(corpus_clean)):\n",
    "    doc_embedding = create_glove_embeddings(doc, dim, glove_embeddings)\n",
    "    embeddings_glove[i] = doc_embedding\n",
    "patent_claims['embeddings_glove'] = [emb for emb in embeddings_glove]\n",
    "\n",
    "# TFIDF WEIGHTED\n",
    "embeddings_glove_tfidf = np.zeros((corpus_size, dim))\n",
    "\n",
    "for i, doc in enumerate(tqdm(corpus_clean)):\n",
    "    doc_embedding_tfidf = create_glove_embeddings(doc, dim, glove_embeddings, tfidf_df, feature_names, i)\n",
    "    embeddings_glove_tfidf[i] = doc_embedding_tfidf\n",
    "patent_claims['embeddings_glove_tfidf'] = [emb for emb in embeddings_glove_tfidf]"
   ],
   "metadata": {
    "collapsed": false
   }
  },
  {
   "cell_type": "code",
   "execution_count": null,
   "outputs": [],
   "source": [
    "''' Creating ISCO embeddings '''\n",
    "\n",
    "dim = 300\n",
    "\n",
    "corpus_isco = isco['combined_text']\n",
    "corpus_isco_clean = [' '.join(tokenize_doc(doc).index_word.values()) for doc in corpus_isco]\n",
    "corpus_isco_size = len(corpus_isco_clean)\n",
    "\n",
    "corpus_isco_tokens = set(chain(*([doc.split() for doc in corpus_isco_clean])))\n",
    "\n",
    "tfidf_isco = TfidfVectorizer()\n",
    "tfidf_isco_fit = tfidf_isco.fit_transform(corpus_isco_clean)\n",
    "feature_names_isco = tfidf_isco.get_feature_names_out()\n",
    "tfidf_df_isco = pd.DataFrame(tfidf_isco_fit.todense(), index=range(corpus_isco_size), columns=feature_names_isco)\n",
    "\n",
    "token_diff_isco = corpus_isco_tokens - set(feature_names_isco)\n",
    "\n",
    "glove_embeddings_isco = {}\n",
    "\n",
    "with open('glove/glove.6B.300d.txt', 'r') as glove_file:\n",
    "    while True:\n",
    "        line = glove_file.readline()\n",
    "\n",
    "        if not line:\n",
    "            break\n",
    "\n",
    "        word, *vector = line.split()\n",
    "\n",
    "        if word in corpus_isco_tokens:\n",
    "            glove_embeddings_isco[word] = vector\n",
    "\n",
    "isco_embeddings_glove = np.zeros((corpus_isco_size, dim))\n",
    "\n",
    "for i, doc in enumerate(tqdm(corpus_isco_clean)):\n",
    "    doc_embedding_isco = create_glove_embeddings(doc, dim, glove_embeddings_isco)\n",
    "    isco_embeddings_glove[i] = doc_embedding_isco\n",
    "\n",
    "# TFIDF WEIGHTED\n",
    "isco_embeddings_glove_tfidf = np.zeros((corpus_isco_size, dim))\n",
    "\n",
    "for i, doc in enumerate(tqdm(corpus_isco_clean)):\n",
    "    doc_embedding_isco_tfidf = create_glove_embeddings(doc, dim, glove_embeddings_isco, tfidf_df_isco, feature_names_isco, i)\n",
    "    isco_embeddings_glove_tfidf[i] = doc_embedding_isco_tfidf"
   ],
   "metadata": {
    "collapsed": false
   }
  },
  {
   "cell_type": "markdown",
   "source": [
    "# Most similar occupations"
   ],
   "metadata": {
    "collapsed": false
   }
  },
  {
   "cell_type": "code",
   "execution_count": null,
   "outputs": [],
   "source": [
    "def most_sim_occupations_split(claim_embeddings, occupation_embeddings):\n",
    "    # Create sim matrix of list of claim embeddings with every ISCO embedding\n",
    "    sim_matrix = util.cos_sim(claim_embeddings, occupation_embeddings)\n",
    "    sim_matrix = pd.DataFrame(sim_matrix)\n",
    "\n",
    "    codes = []\n",
    "\n",
    "    for i in range(len(sim_matrix)):\n",
    "        # Retrieve index of occupation with max similarity\n",
    "        idx_max = sim_matrix.iloc[i].idxmax()\n",
    "        # Match index with ISCO code\n",
    "        code = isco.iloc[idx_max]['isco_code']\n",
    "        codes.append(code)\n",
    "\n",
    "    # Create counter for list of codes\n",
    "    code_counter = Counter(codes)\n",
    "    # Retrieve most common code\n",
    "    code = code_counter.most_common(1)[0][0]\n",
    "\n",
    "    return code\n",
    "\n",
    "def most_sim_occupations(claim_embeddings, occupancy_embeddings):\n",
    "    # Same but for claims not in a list\n",
    "    sim_matrix = util.cos_sim(claim_embeddings, occupancy_embeddings)\n",
    "    sim_matrix = pd.DataFrame(sim_matrix)\n",
    "\n",
    "    sim_occupancies = []\n",
    "\n",
    "    for i in range(len(sim_matrix)):\n",
    "        idx_max = sim_matrix.iloc[i].idxmax()\n",
    "\n",
    "        code = isco.iloc[idx_max]['isco_code']\n",
    "\n",
    "        sim_occupancies.append(code)\n",
    "\n",
    "    return pd.Series(sim_occupancies)"
   ],
   "metadata": {
    "collapsed": false
   }
  },
  {
   "cell_type": "code",
   "execution_count": null,
   "outputs": [],
   "source": [
    "# mpnet\n",
    "patent_claims['sim_occ_mpnet'] = patent_claims['embeddings_mpnet'].progress_apply(lambda x: most_sim_occupations_split(x, isco_embeddings_mpnet))\n",
    "patent_claims['sim_occ_mpnet_mean'] = most_sim_occupations(patent_claims['embeddings_mpnet_mean'], isco_embeddings_mpnet)"
   ],
   "metadata": {
    "collapsed": false
   }
  },
  {
   "cell_type": "code",
   "execution_count": null,
   "outputs": [],
   "source": [
    "# PaECTER\n",
    "patent_claims['sim_occ_paecter'] = patent_claims['embeddings_paecter'].apply(lambda x: most_sim_occupations_split(x, isco_embeddings_paecter))\n",
    "patent_claims['sim_occ_paecter_mean'] = most_sim_occupations(patent_claims['embeddings_paecter_mean'], isco_embeddings_paecter)"
   ],
   "metadata": {
    "collapsed": false
   }
  },
  {
   "cell_type": "code",
   "execution_count": null,
   "outputs": [],
   "source": [
    "# GloVe\n",
    "patent_claims['sim_occ_glove'] = most_sim_occupations(patent_claims['embeddings_glove'], isco_embeddings_glove)\n",
    "patent_claims['sim_occ_glove_tfidf'] = most_sim_occupations(patent_claims['embeddings_glove_tfidf'], isco_embeddings_glove_tfidf)"
   ],
   "metadata": {
    "collapsed": false
   }
  },
  {
   "cell_type": "code",
   "execution_count": null,
   "outputs": [],
   "source": [
    "# Writing file for manual validation\n",
    "with open('similar_occupancies_check.txt', 'w') as f:\n",
    "    for pub_nbr in patent_claims['pub_nbr']:\n",
    "        pub_title = patents.loc[(patents['pub_nbr'] == pub_nbr) & (patents['text_type'] == 'TITLE'), 'text'].iloc[\n",
    "            0].lower().capitalize()\n",
    "        pub_claim = patent_claims.loc[patent_claims['pub_nbr'] == pub_nbr, 'split_text'].iloc[0]\n",
    "\n",
    "        pub_claims = '.\\n\\n'.join(pub_claim)\n",
    "\n",
    "        sim_occupations_mpnet = patent_claims.loc[patent_claims['pub_nbr'] == pub_nbr, 'sim_occ_mpnet'].iloc[0][0]\n",
    "        sim_occupations_mpnet_mean = patent_claims.loc[patent_claims['pub_nbr'] == pub_nbr, 'sim_occ_mpnet_mean'].iloc[0]\n",
    "\n",
    "        sim_occupations_paecter = patent_claims.loc[patent_claims['pub_nbr'] == pub_nbr, 'sim_occ_paecter'].iloc[0][0]\n",
    "        sim_occupations_paecter_mean = patent_claims.loc[patent_claims['pub_nbr'] == pub_nbr, 'sim_occ_paecter_mean'].iloc[0]\n",
    "\n",
    "        sim_occupations_glove = patent_claims.loc[patent_claims['pub_nbr'] == pub_nbr, 'sim_occ_glove'].iloc[0]\n",
    "        sim_occupations_glove_tfidf = patent_claims.loc[patent_claims['pub_nbr'] == pub_nbr, 'sim_occ_glove_tfidf'].iloc[0]\n",
    "\n",
    "        f.write(\n",
    "            f'''TITLE:\n",
    "{pub_title} (patent number: {pub_nbr})\n",
    "\n",
    "CLAIMS:\n",
    "{pub_claims}\n",
    "\n",
    "SIMILAR OCCUPANCIES:\n",
    "\n",
    "mpnet:\n",
    "{sim_occupations_mpnet}\n",
    "mpnet (mean):\n",
    "{sim_occupations_mpnet_mean}\n",
    "\n",
    "PaECTER:\n",
    "{sim_occupations_paecter}\n",
    "PaECTER (mean):\n",
    "{sim_occupations_paecter_mean}\n",
    "\n",
    "GLOVE:\n",
    "{sim_occupations_glove}\n",
    "GLOVE (tf-idf):\n",
    "{sim_occupations_glove_tfidf}\n",
    "\n",
    "-----------------------------------------------------------------------------------------------------------------------\n",
    "\n",
    "''')"
   ],
   "metadata": {
    "collapsed": false
   }
  }
 ],
 "metadata": {
  "kernelspec": {
   "display_name": "Python 3 (ipykernel)",
   "language": "python",
   "name": "python3"
  },
  "language_info": {
   "codemirror_mode": {
    "name": "ipython",
    "version": 3
   },
   "file_extension": ".py",
   "mimetype": "text/x-python",
   "name": "python",
   "nbconvert_exporter": "python",
   "pygments_lexer": "ipython3",
   "version": "3.11.4"
  }
 },
 "nbformat": 4,
 "nbformat_minor": 4
}
